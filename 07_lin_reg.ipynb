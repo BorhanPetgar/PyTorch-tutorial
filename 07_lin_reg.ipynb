{
 "cells": [
  {
   "cell_type": "code",
   "execution_count": 68,
   "metadata": {},
   "outputs": [],
   "source": [
    "import torch\n",
    "import torch.nn as nn\n",
    "import torch.optim as optim\n",
    "import sklearn.datasets as datasets\n",
    "import numpy as np\n",
    "import matplotlib.pyplot as plt\n",
    "import seaborn as sns"
   ]
  },
  {
   "cell_type": "code",
   "execution_count": 69,
   "metadata": {},
   "outputs": [],
   "source": [
    "# 0) preparing data\n",
    "\n",
    "x_np, y_np = datasets.make_regression(n_samples=100, n_features=1, noise=20, random_state=1)\n",
    "\n",
    "X = torch.from_numpy(x_np.astype(np.float32))\n",
    "y = torch.from_numpy(y_np.astype(np.float32))\n",
    "y = y.view(y.shape[0], 1)\n",
    "\n",
    "# x.shape ==> x.shape[0] => number of samples, x.shape[1] => number of features\n",
    "m, n_features = X.shape[0], X.shape[1]\n"
   ]
  },
  {
   "cell_type": "code",
   "execution_count": 70,
   "metadata": {},
   "outputs": [],
   "source": [
    "# 1) model\n",
    "\n",
    "in_features = n_features\n",
    "out_features = 1\n",
    "model = nn.Linear(in_features=in_features, out_features=out_features)"
   ]
  },
  {
   "cell_type": "code",
   "execution_count": 71,
   "metadata": {},
   "outputs": [],
   "source": [
    "# 2) loss and optimizer\n",
    "\n",
    "learning_rate = 0.05\n",
    "\n",
    "criterion = nn.MSELoss()\n",
    "optimizer = optim.SGD(model.parameters(), lr=learning_rate)"
   ]
  },
  {
   "cell_type": "code",
   "execution_count": 72,
   "metadata": {},
   "outputs": [
    {
     "name": "stdout",
     "output_type": "stream",
     "text": [
      "epoch   0: loss = 5822.90869140625\n",
      "epoch  10: loss = 1383.072509765625\n",
      "epoch  20: loss = 537.45166015625\n",
      "epoch  30: loss = 373.0053405761719\n",
      "epoch  40: loss = 340.6064758300781\n",
      "epoch  50: loss = 334.17266845703125\n",
      "epoch  60: loss = 332.8888244628906\n",
      "epoch  70: loss = 332.6319580078125\n",
      "epoch  80: loss = 332.58050537109375\n",
      "epoch  90: loss = 332.5701599121094\n",
      "epoch 100: loss = 332.5680847167969\n",
      "epoch 110: loss = 332.56768798828125\n",
      "epoch 120: loss = 332.56756591796875\n",
      "epoch 130: loss = 332.56756591796875\n",
      "epoch 140: loss = 332.5675354003906\n",
      "epoch 150: loss = 332.5675354003906\n",
      "epoch 160: loss = 332.56756591796875\n",
      "epoch 170: loss = 332.5675354003906\n",
      "epoch 180: loss = 332.5675354003906\n",
      "epoch 190: loss = 332.56756591796875\n",
      "epoch 200: loss = 332.56756591796875\n",
      "epoch 210: loss = 332.56756591796875\n",
      "epoch 220: loss = 332.56756591796875\n",
      "epoch 230: loss = 332.56756591796875\n",
      "epoch 240: loss = 332.56756591796875\n"
     ]
    }
   ],
   "source": [
    "# 3) train\n",
    "\n",
    "n_epochs = 250\n",
    "\n",
    "for epoch in range(n_epochs):\n",
    "    # forward pass\n",
    "    y_hat = model(X)\n",
    "    \n",
    "    # loss\n",
    "    loss = criterion(y_hat, y)\n",
    "\n",
    "    # backward\n",
    "    loss.backward()\n",
    "    # update weights\n",
    "    optimizer.step()\n",
    "\n",
    "    # zero\n",
    "    optimizer.zero_grad()\n",
    "\n",
    "    if epoch % 10 == 0:\n",
    "        print(f'epoch {epoch:3d}: loss = {loss.item()}')"
   ]
  },
  {
   "cell_type": "code",
   "execution_count": 73,
   "metadata": {},
   "outputs": [
    {
     "data": {
      "text/plain": [
       "[<matplotlib.lines.Line2D at 0x7f38d723d6a0>]"
      ]
     },
     "execution_count": 73,
     "metadata": {},
     "output_type": "execute_result"
    },
    {
     "data": {
      "image/png": "[encoded data removed]",
      "text/plain": [
       "<Figure size 432x288 with 1 Axes>"
      ]
     },
     "metadata": {},
     "output_type": "display_data"
    }
   ],
   "source": [
    "# plot\n",
    "sns.set()\n",
    "y_hat_plot = model(X).detach().numpy()\n",
    "plt.plot(x_np, y_np, 'ro')\n",
    "plt.plot(x_np, y_hat_plot)"
   ]
  }
 ],
 "metadata": {
  "kernelspec": {
   "display_name": "base",
   "language": "python",
   "name": "python3"
  },
  "language_info": {
   "codemirror_mode": {
    "name": "ipython",
    "version": 3
   },
   "file_extension": ".py",
   "mimetype": "text/x-python",
   "name": "python",
   "nbconvert_exporter": "python",
   "pygments_lexer": "ipython3",
   "version": "3.9.12"
  },
  "orig_nbformat": 4
 },
 "nbformat": 4,
 "nbformat_minor": 2
}
