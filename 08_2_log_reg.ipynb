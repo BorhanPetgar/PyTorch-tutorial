{
 "cells": [
  {
   "cell_type": "code",
   "execution_count": 81,
   "metadata": {},
   "outputs": [],
   "source": [
    "import torch\n",
    "import torch.nn as nn\n",
    "import sklearn.datasets as dataset\n",
    "from sklearn.model_selection import train_test_split\n",
    "from sklearn.preprocessing import StandardScaler\n",
    "import numpy as np"
   ]
  },
  {
   "cell_type": "code",
   "execution_count": 82,
   "metadata": {},
   "outputs": [],
   "source": [
    "# prepate data\n",
    "\n",
    "bc = dataset.load_breast_cancer()\n",
    "X, y = bc.data, bc.target\n",
    "\n",
    "# X.shape => (samples=569, features=30)\n",
    "m, features = X.shape\n",
    "\n",
    "# shuffle = ?\n",
    "X_train, X_test, y_train, y_test = train_test_split(\n",
    "                    X, y, test_size=0.2, random_state=42, shuffle=True\n",
    "                    )\n"
   ]
  },
  {
   "cell_type": "code",
   "execution_count": 83,
   "metadata": {},
   "outputs": [
    {
     "data": {
      "text/plain": [
       "(569,)"
      ]
     },
     "execution_count": 83,
     "metadata": {},
     "output_type": "execute_result"
    }
   ],
   "source": [
    "y.shape"
   ]
  },
  {
   "cell_type": "code",
   "execution_count": 84,
   "metadata": {},
   "outputs": [],
   "source": [
    "# scale\n",
    "# it's often used due to logistic regression\n",
    "\n",
    "sc = StandardScaler()\n",
    "X_train = sc.fit_transform(X_train)\n",
    "X_test = sc.fit_transform(X_test)\n",
    "\n",
    "X_train = torch.from_numpy(X_train.astype(np.float32))\n",
    "X_test = torch.from_numpy(X_test.astype(np.float32))\n",
    "y_train = torch.from_numpy(y_train.astype(np.float32))\n",
    "y_test = torch.from_numpy(y_test.astype(np.float32))\n",
    "\n",
    "y_train = y_train.view(y_train.shape[0], 1)\n",
    "y_test = y_test.view(y_test.shape[0], 1)"
   ]
  },
  {
   "cell_type": "code",
   "execution_count": 85,
   "metadata": {},
   "outputs": [],
   "source": [
    "# model\n",
    "# linear model => f = wx + b, sigmoid at the end\n",
    "\n",
    "class Model(nn.Module):\n",
    "    def __init__(self, in_features):\n",
    "        super(Model, self).__init__()\n",
    "        self.linear = nn.Linear(in_features=in_features, out_features=1)\n",
    "    def forward(self, x):\n",
    "        y_hat = torch.sigmoid(self.linear(x))\n",
    "        return y_hat\n",
    "    \n",
    "model = Model(features)"
   ]
  },
  {
   "cell_type": "code",
   "execution_count": 86,
   "metadata": {},
   "outputs": [],
   "source": [
    "# loss and optimizer\n",
    "\n",
    "n_epochs = 300\n",
    "learning_rate = 0.01\n",
    "criterion = nn.BCELoss()\n",
    "optimizer = torch.optim.SGD(model.parameters(), lr=learning_rate)"
   ]
  },
  {
   "cell_type": "code",
   "execution_count": 87,
   "metadata": {},
   "outputs": [
    {
     "name": "stdout",
     "output_type": "stream",
     "text": [
      "epoch: 10, loss = 0.4179\n",
      "epoch: 20, loss = 0.3790\n",
      "epoch: 30, loss = 0.3493\n",
      "epoch: 40, loss = 0.3259\n",
      "epoch: 50, loss = 0.3067\n",
      "epoch: 60, loss = 0.2908\n",
      "epoch: 70, loss = 0.2772\n",
      "epoch: 80, loss = 0.2655\n",
      "epoch: 90, loss = 0.2552\n",
      "epoch: 100, loss = 0.2462\n",
      "epoch: 110, loss = 0.2381\n",
      "epoch: 120, loss = 0.2308\n",
      "epoch: 130, loss = 0.2242\n",
      "epoch: 140, loss = 0.2182\n",
      "epoch: 150, loss = 0.2127\n",
      "epoch: 160, loss = 0.2076\n",
      "epoch: 170, loss = 0.2029\n",
      "epoch: 180, loss = 0.1986\n",
      "epoch: 190, loss = 0.1945\n",
      "epoch: 200, loss = 0.1908\n",
      "epoch: 210, loss = 0.1872\n",
      "epoch: 220, loss = 0.1839\n",
      "epoch: 230, loss = 0.1808\n",
      "epoch: 240, loss = 0.1779\n",
      "epoch: 250, loss = 0.1751\n",
      "epoch: 260, loss = 0.1725\n",
      "epoch: 270, loss = 0.1700\n",
      "epoch: 280, loss = 0.1677\n",
      "epoch: 290, loss = 0.1654\n",
      "epoch: 300, loss = 0.1633\n"
     ]
    }
   ],
   "source": [
    "# Training\n",
    "\n",
    "for epoch in range(n_epochs):\n",
    "    # forward\n",
    "    y_hat = model(X_train)\n",
    "    # loss\n",
    "    loss = criterion(y_hat, y_train)\n",
    "    # backward\n",
    "    loss.backward()\n",
    "    # update\n",
    "    optimizer.step()\n",
    "    # zero grad before next step\n",
    "    optimizer.zero_grad()\n",
    "\n",
    "    if (epoch+1) % 10 == 0:\n",
    "        print(f'epoch: {epoch+1}, loss = {loss.item():.4f}')\n",
    "\n",
    "    "
   ]
  },
  {
   "cell_type": "code",
   "execution_count": 88,
   "metadata": {},
   "outputs": [
    {
     "name": "stdout",
     "output_type": "stream",
     "text": [
      "accuracy: 0.9737\n"
     ]
    }
   ],
   "source": [
    "# test\n",
    "\n",
    "with torch.no_grad():\n",
    "    y_hat = model(X_test)\n",
    "    y_hat_cls = y_hat.round()\n",
    "    acc = y_hat_cls.eq(y_test).sum() / float(y_test.shape[0])\n",
    "    print(f'accuracy: {acc.item():.4f}')"
   ]
  }
 ],
 "metadata": {
  "kernelspec": {
   "display_name": "base",
   "language": "python",
   "name": "python3"
  },
  "language_info": {
   "codemirror_mode": {
    "name": "ipython",
    "version": 3
   },
   "file_extension": ".py",
   "mimetype": "text/x-python",
   "name": "python",
   "nbconvert_exporter": "python",
   "pygments_lexer": "ipython3",
   "version": "3.9.12"
  },
  "orig_nbformat": 4
 },
 "nbformat": 4,
 "nbformat_minor": 2
}
