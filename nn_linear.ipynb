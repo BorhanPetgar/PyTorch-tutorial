{
 "cells": [
  {
   "cell_type": "code",
   "execution_count": 79,
   "metadata": {},
   "outputs": [],
   "source": [
    "import torch\n",
    "from torch import nn"
   ]
  },
  {
   "cell_type": "code",
   "execution_count": 80,
   "metadata": {},
   "outputs": [],
   "source": [
    "# initial values\n",
    "w = torch.tensor(0, dtype=torch.float32, requires_grad=True)\n",
    "X = torch.arange(start=1, end=5, dtype=torch.float32)\n",
    "y = 2 * X\n"
   ]
  },
  {
   "cell_type": "code",
   "execution_count": 81,
   "metadata": {},
   "outputs": [],
   "source": [
    "X = X.view(4, 1)\n",
    "\n",
    "m, features = X.shape\n",
    "\n",
    "y = y.unsqueeze(dim=1)"
   ]
  },
  {
   "cell_type": "code",
   "execution_count": 82,
   "metadata": {},
   "outputs": [],
   "source": [
    "class Model(torch.nn.Module):\n",
    "    def __init__(self, in_features):\n",
    "        super(Model, self).__init__()\n",
    "        self.lin = nn.Linear(in_features=in_features, out_features=1)\n",
    "    def forward(self, X):\n",
    "        y_hat = self.lin(X)\n",
    "        return y_hat\n",
    "    def get_param(self):\n",
    "        return self.lin.weight, self.lin.bias\n",
    "        \n",
    "model = Model(features)"
   ]
  },
  {
   "cell_type": "code",
   "execution_count": 83,
   "metadata": {},
   "outputs": [],
   "source": [
    "# hyperparameters \n",
    "learning_rate = 0.1\n",
    "criterion = nn.MSELoss()\n",
    "n_epochs = 200\n",
    "optimizer = torch.optim.SGD(model.parameters(), lr=learning_rate)"
   ]
  },
  {
   "cell_type": "code",
   "execution_count": 84,
   "metadata": {},
   "outputs": [
    {
     "name": "stdout",
     "output_type": "stream",
     "text": [
      "epoch:  10, loss = 0.0945\n",
      "epoch:  20, loss = 0.0424\n",
      "epoch:  30, loss = 0.0231\n",
      "epoch:  40, loss = 0.0126\n",
      "epoch:  50, loss = 0.0068\n",
      "epoch:  60, loss = 0.0037\n",
      "epoch:  70, loss = 0.0020\n",
      "epoch:  80, loss = 0.0011\n",
      "epoch:  90, loss = 0.0006\n",
      "epoch: 100, loss = 0.0003\n",
      "epoch: 110, loss = 0.0002\n",
      "epoch: 120, loss = 0.0001\n",
      "epoch: 130, loss = 0.0001\n",
      "epoch: 140, loss = 0.0000\n",
      "epoch: 150, loss = 0.0000\n",
      "epoch: 160, loss = 0.0000\n",
      "epoch: 170, loss = 0.0000\n",
      "epoch: 180, loss = 0.0000\n",
      "epoch: 190, loss = 0.0000\n",
      "epoch: 200, loss = 0.0000\n"
     ]
    }
   ],
   "source": [
    "for epoch in range(n_epochs):\n",
    "    # forward\n",
    "    y_hat = model(X)\n",
    "    # loss\n",
    "    loss = criterion(y, y_hat)\n",
    "    # backward\n",
    "    loss.backward()\n",
    "    # update\n",
    "    optimizer.step()\n",
    "    # zero grad\n",
    "    optimizer.zero_grad()\n",
    "    \n",
    "    if (epoch+1) % 10 == 0:\n",
    "        print(f'epoch: {epoch+1:3d}, loss = {loss.item():.4f}')"
   ]
  },
  {
   "cell_type": "code",
   "execution_count": 85,
   "metadata": {},
   "outputs": [
    {
     "name": "stdout",
     "output_type": "stream",
     "text": [
      "(Parameter containing:\n",
      "tensor([[1.9993]], requires_grad=True), Parameter containing:\n",
      "tensor([0.0021], requires_grad=True))\n"
     ]
    }
   ],
   "source": [
    "print(model.get_param())"
   ]
  },
  {
   "cell_type": "code",
   "execution_count": 86,
   "metadata": {},
   "outputs": [
    {
     "name": "stdout",
     "output_type": "stream",
     "text": [
      "9.998560905456543\n"
     ]
    }
   ],
   "source": [
    "predict = torch.tensor([5.], dtype=torch.float32)\n",
    "print(model(predict).item())"
   ]
  }
 ],
 "metadata": {
  "kernelspec": {
   "display_name": "base",
   "language": "python",
   "name": "python3"
  },
  "language_info": {
   "codemirror_mode": {
    "name": "ipython",
    "version": 3
   },
   "file_extension": ".py",
   "mimetype": "text/x-python",
   "name": "python",
   "nbconvert_exporter": "python",
   "pygments_lexer": "ipython3",
   "version": "3.9.12"
  },
  "orig_nbformat": 4
 },
 "nbformat": 4,
 "nbformat_minor": 2
}
