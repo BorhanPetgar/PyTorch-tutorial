{
 "cells": [
  {
   "cell_type": "code",
   "execution_count": 26,
   "metadata": {},
   "outputs": [],
   "source": [
    "import numpy as np"
   ]
  },
  {
   "cell_type": "code",
   "execution_count": 27,
   "metadata": {},
   "outputs": [],
   "source": [
    "# f = w*x\n",
    "# y = 2 * x\n",
    "\n",
    "X = np.array([1., 2., 3., 4.])\n",
    "Y = np.array([2., 4., 6., 8.])\n",
    "\n",
    "w = 0.0"
   ]
  },
  {
   "cell_type": "code",
   "execution_count": 28,
   "metadata": {},
   "outputs": [],
   "source": [
    "def forward(X):\n",
    "    return X * w"
   ]
  },
  {
   "cell_type": "code",
   "execution_count": 29,
   "metadata": {},
   "outputs": [],
   "source": [
    "# loss\n",
    "def loss(Y, y_hat):\n",
    "    return ((Y - y_hat)**2).mean()"
   ]
  },
  {
   "cell_type": "code",
   "execution_count": 30,
   "metadata": {},
   "outputs": [],
   "source": [
    "def gradient(x, y_hat, y):\n",
    "    return (np.dot(2 * x, (y_hat - y))).mean()"
   ]
  },
  {
   "cell_type": "code",
   "execution_count": 31,
   "metadata": {},
   "outputs": [
    {
     "name": "stdout",
     "output_type": "stream",
     "text": [
      "prediction before training f(5) = 0.000\n"
     ]
    }
   ],
   "source": [
    "# we have the values from x = 1 to x = 4 and we need to predict x = 5 and ...\n",
    "print(f\"prediction before training f(5) = {forward(5):.3f}\")"
   ]
  },
  {
   "cell_type": "code",
   "execution_count": 32,
   "metadata": {},
   "outputs": [],
   "source": [
    "learning_rate = 0.01\n",
    "n_iters = 10"
   ]
  },
  {
   "cell_type": "code",
   "execution_count": 33,
   "metadata": {},
   "outputs": [
    {
     "name": "stdout",
     "output_type": "stream",
     "text": [
      "epoch  1: w = 1.200, loss = 30.000\n",
      "epoch  2: w = 1.680, loss = 4.800\n",
      "epoch  3: w = 1.872, loss = 0.768\n",
      "epoch  4: w = 1.949, loss = 0.123\n",
      "epoch  5: w = 1.980, loss = 0.020\n",
      "epoch  6: w = 1.992, loss = 0.003\n",
      "epoch  7: w = 1.997, loss = 0.001\n",
      "epoch  8: w = 1.999, loss = 0.000\n",
      "epoch  9: w = 1.999, loss = 0.000\n",
      "epoch 10: w = 2.000, loss = 0.000\n"
     ]
    }
   ],
   "source": [
    "for epoch in range(n_iters):\n",
    "    \n",
    "    y_hat = forward(X)\n",
    "    \n",
    "    l = loss(Y, y_hat)\n",
    "\n",
    "    dw = gradient(y_hat=y_hat, y=Y, x=X)\n",
    "\n",
    "    w -= learning_rate * dw\n",
    "    \n",
    "    if epoch % 1 == 0:\n",
    "        print(f'epoch{(epoch + 1):3d}: w = {w:.3f}, loss = {l:.3f}')\n",
    "\n"
   ]
  },
  {
   "cell_type": "code",
   "execution_count": 34,
   "metadata": {},
   "outputs": [
    {
     "name": "stdout",
     "output_type": "stream",
     "text": [
      "prediction after training: f(5) = 9.998951424\n"
     ]
    }
   ],
   "source": [
    "print(f'prediction after training: f(5) = {forward(5)}')"
   ]
  },
  {
   "cell_type": "code",
   "execution_count": null,
   "metadata": {},
   "outputs": [],
   "source": []
  },
  {
   "cell_type": "code",
   "execution_count": null,
   "metadata": {},
   "outputs": [],
   "source": []
  }
 ],
 "metadata": {
  "kernelspec": {
   "display_name": "base",
   "language": "python",
   "name": "python3"
  },
  "language_info": {
   "codemirror_mode": {
    "name": "ipython",
    "version": 3
   },
   "file_extension": ".py",
   "mimetype": "text/x-python",
   "name": "python",
   "nbconvert_exporter": "python",
   "pygments_lexer": "ipython3",
   "version": "3.9.12"
  },
  "orig_nbformat": 4
 },
 "nbformat": 4,
 "nbformat_minor": 2
}
